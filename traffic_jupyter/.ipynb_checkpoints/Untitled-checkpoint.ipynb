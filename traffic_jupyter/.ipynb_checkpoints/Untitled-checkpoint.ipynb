{
 "cells": [
  {
   "cell_type": "code",
   "execution_count": 1,
   "id": "changing-hundred",
   "metadata": {},
   "outputs": [],
   "source": [
    "\"\"\"Importing libraries\"\"\"\n",
    "import tensorflow as tf\n",
    "import numpy as np\n",
    "import pandas as pd\n",
    "from PIL import Image\n",
    "import os\n",
    "from sklearn.model_selection import train_test_split\n",
    "from sklearn.metrics import accuracy_score\n",
    "from keras.utils import to_categorical\n",
    "from keras.models import Sequential, load_model\n",
    "from keras.layers import Conv2D, MaxPool2D, Dense, Flatten, Dropout\n",
    "import matplotlib.pyplot as plt\n",
    "import pickle"
   ]
  },
  {
   "cell_type": "code",
   "execution_count": 2,
   "id": "congressional-edmonton",
   "metadata": {},
   "outputs": [],
   "source": [
    "\"\"\"Storing data and labels in the list\"\"\"\n",
    "data = []\n",
    "labels = []"
   ]
  },
  {
   "cell_type": "code",
   "execution_count": 3,
   "id": "fundamental-major",
   "metadata": {},
   "outputs": [
    {
     "name": "stdout",
     "output_type": "stream",
     "text": [
      "/home/wu/Desktop/Final project\n"
     ]
    }
   ],
   "source": [
    "\"\"\"Locating working directory and printing it out\"\"\"\n",
    "file_path = os.getcwd()\n",
    "print(file_path)"
   ]
  },
  {
   "cell_type": "code",
   "execution_count": 4,
   "id": "vital-allergy",
   "metadata": {},
   "outputs": [],
   "source": [
    "\"\"\"\n",
    "Looping through 43 classes\n",
    "Opening data - train file\n",
    "Declaring 'images' as faster way to open file\n",
    "----------------------------------------------\n",
    "Looping through settings of images\n",
    "Opening images and appending each folder\n",
    "Resizing the pictures\n",
    "Modifying the list with append for data and labels\n",
    "Raising the exception if there was any errors\n",
    "\"\"\"\n",
    "for pictures in range(43):\n",
    "    data_path = os.path.join(file_path, 'Data/Train', str(pictures))\n",
    "    images = os.listdir(data_path)\n",
    "    for setting in images:\n",
    "        try:\n",
    "            image = Image.open(data_path + '//' + setting)\n",
    "            image = image.resize((30, 30))\n",
    "            image = np.array(image)\n",
    "            data.append(image)\n",
    "            labels.append(pictures)\n",
    "        except Exception as error:\n",
    "            print(error)"
   ]
  },
  {
   "cell_type": "code",
   "execution_count": 5,
   "id": "mediterranean-christmas",
   "metadata": {},
   "outputs": [],
   "source": [
    "\"\"\"Making data and labels list to be numpy arrays\"\"\"\n",
    "data = np.array(data)\n",
    "labels = np.array(labels)"
   ]
  },
  {
   "cell_type": "code",
   "execution_count": 7,
   "id": "brief-array",
   "metadata": {},
   "outputs": [],
   "source": [
    "\"\"\"\n",
    "Making a folder for model\n",
    "Saving model after training\n",
    "The model can be used and no need to be trained\n",
    "\"\"\"\n",
    "#os.mkdir('Saved_model')\n",
    "np.save('./Saved_model/data1', data)\n",
    "np.save('./Saved_model/labels1', labels)"
   ]
  },
  {
   "cell_type": "code",
   "execution_count": 8,
   "id": "turkish-lightning",
   "metadata": {},
   "outputs": [
    {
     "data": {
      "text/plain": [
       "'Loading model'"
      ]
     },
     "execution_count": 8,
     "metadata": {},
     "output_type": "execute_result"
    }
   ],
   "source": [
    "\"\"\"Loading model\"\"\"\n",
    "#data = np.load('./Saved_model/data.npy')\n",
    "#labels = np.load('./Saved_model/labels.npy')"
   ]
  },
  {
   "cell_type": "code",
   "execution_count": 9,
   "id": "driving-electronics",
   "metadata": {},
   "outputs": [
    {
     "name": "stdout",
     "output_type": "stream",
     "text": [
      "(39209, 30, 30, 3) (39209,)\n"
     ]
    }
   ],
   "source": [
    "\"\"\"Printing out the shape of data and labels\"\"\"\n",
    "print(data.shape, labels.shape)"
   ]
  },
  {
   "cell_type": "code",
   "execution_count": 10,
   "id": "extreme-experience",
   "metadata": {},
   "outputs": [],
   "source": [
    "\"\"\"Preparing testing, training and setting up the parameters\"\"\"\n",
    "X_train, X_test, y_train, y_test = train_test_split(data, labels, test_size=0.2, random_state=0)"
   ]
  },
  {
   "cell_type": "code",
   "execution_count": 11,
   "id": "atmospheric-material",
   "metadata": {},
   "outputs": [
    {
     "name": "stdout",
     "output_type": "stream",
     "text": [
      "(31367, 30, 30, 3) (7842, 30, 30, 3) (31367,) (7842,)\n"
     ]
    }
   ],
   "source": [
    "\"\"\"Printing the shape\"\"\"\n",
    "print(X_train.shape, X_test.shape, y_train.shape, y_test.shape)"
   ]
  },
  {
   "cell_type": "code",
   "execution_count": 12,
   "id": "floating-cornell",
   "metadata": {},
   "outputs": [],
   "source": [
    "\"\"\"Converting classes to encoded data\"\"\"\n",
    "y_train = to_categorical(y_train, 43)\n",
    "y_test = to_categorical(y_test, 43)"
   ]
  },
  {
   "cell_type": "code",
   "execution_count": 13,
   "id": "automatic-peeing",
   "metadata": {},
   "outputs": [],
   "source": [
    "\"\"\"\n",
    "Preparing the model\n",
    "Model has parameters from KERAS API\n",
    "Activation layers for model\n",
    "\"\"\"\n",
    "model = Sequential()\n",
    "model.add(Conv2D(filters=32, kernel_size=(5, 5), activation='relu', input_shape=X_train.shape[1:]))\n",
    "model.add(Conv2D(filters=32, kernel_size=(5, 5), activation='relu'))\n",
    "model.add(MaxPool2D(pool_size=(2, 2)))\n",
    "model.add(Dropout(rate=0.25))\n",
    "model.add(Conv2D(filters=64, kernel_size=(3, 3), activation='relu'))\n",
    "model.add(Conv2D(filters=64, kernel_size=(3, 3), activation='relu'))\n",
    "model.add(MaxPool2D(pool_size=(2, 2)))\n",
    "model.add(Dropout(rate=0.25))\n",
    "model.add(Flatten())\n",
    "model.add(Dense(256, activation='relu'))\n",
    "model.add(Dropout(rate=0.5))\n",
    "model.add(Dense(43, activation='softmax'))"
   ]
  },
  {
   "cell_type": "code",
   "execution_count": 14,
   "id": "contemporary-wyoming",
   "metadata": {},
   "outputs": [],
   "source": [
    "\"\"\"Compiling the model\"\"\"\n",
    "model.compile(loss='categorical_crossentropy', optimizer='adam', metrics=['accuracy'])"
   ]
  },
  {
   "cell_type": "code",
   "execution_count": 15,
   "id": "experienced-uncertainty",
   "metadata": {},
   "outputs": [
    {
     "name": "stdout",
     "output_type": "stream",
     "text": [
      "Epoch 1/20\n",
      "981/981 [==============================] - 86s 87ms/step - loss: 3.7975 - accuracy: 0.2312 - val_loss: 0.7216 - val_accuracy: 0.8103\n",
      "Epoch 2/20\n",
      "981/981 [==============================] - 84s 86ms/step - loss: 1.1155 - accuracy: 0.6718 - val_loss: 0.3752 - val_accuracy: 0.8976\n",
      "Epoch 3/20\n",
      "981/981 [==============================] - 84s 86ms/step - loss: 0.7903 - accuracy: 0.7585 - val_loss: 0.3096 - val_accuracy: 0.9225\n",
      "Epoch 4/20\n",
      "981/981 [==============================] - 85s 87ms/step - loss: 0.6675 - accuracy: 0.7969 - val_loss: 0.2509 - val_accuracy: 0.9323\n",
      "Epoch 5/20\n",
      "981/981 [==============================] - 85s 87ms/step - loss: 0.6028 - accuracy: 0.8154 - val_loss: 0.1909 - val_accuracy: 0.9484\n",
      "Epoch 6/20\n",
      "981/981 [==============================] - 85s 86ms/step - loss: 0.5367 - accuracy: 0.8370 - val_loss: 0.1793 - val_accuracy: 0.9473\n",
      "Epoch 7/20\n",
      "981/981 [==============================] - 85s 87ms/step - loss: 0.4801 - accuracy: 0.8560 - val_loss: 0.1301 - val_accuracy: 0.9631\n",
      "Epoch 8/20\n",
      "981/981 [==============================] - 85s 87ms/step - loss: 0.4324 - accuracy: 0.8695 - val_loss: 0.1331 - val_accuracy: 0.9598\n",
      "Epoch 9/20\n",
      "981/981 [==============================] - 86s 87ms/step - loss: 0.3948 - accuracy: 0.8840 - val_loss: 0.1248 - val_accuracy: 0.9638\n",
      "Epoch 10/20\n",
      "981/981 [==============================] - 85s 87ms/step - loss: 0.3495 - accuracy: 0.8944 - val_loss: 0.1368 - val_accuracy: 0.9615\n",
      "Epoch 11/20\n",
      "981/981 [==============================] - 86s 87ms/step - loss: 0.3299 - accuracy: 0.9004 - val_loss: 0.1358 - val_accuracy: 0.9633\n",
      "Epoch 12/20\n",
      "981/981 [==============================] - 86s 88ms/step - loss: 0.3408 - accuracy: 0.9021 - val_loss: 0.0786 - val_accuracy: 0.9772\n",
      "Epoch 13/20\n",
      "981/981 [==============================] - 86s 87ms/step - loss: 0.3255 - accuracy: 0.9041 - val_loss: 0.1005 - val_accuracy: 0.9718\n",
      "Epoch 14/20\n",
      "981/981 [==============================] - 87s 88ms/step - loss: 0.3356 - accuracy: 0.9040 - val_loss: 0.0935 - val_accuracy: 0.9746\n",
      "Epoch 15/20\n",
      "981/981 [==============================] - 87s 88ms/step - loss: 0.2998 - accuracy: 0.9141 - val_loss: 0.0794 - val_accuracy: 0.9769\n",
      "Epoch 16/20\n",
      "981/981 [==============================] - 87s 89ms/step - loss: 0.2815 - accuracy: 0.9180 - val_loss: 0.0815 - val_accuracy: 0.9756\n",
      "Epoch 17/20\n",
      "981/981 [==============================] - 86s 88ms/step - loss: 0.2763 - accuracy: 0.9202 - val_loss: 0.0737 - val_accuracy: 0.9793\n",
      "Epoch 18/20\n",
      "981/981 [==============================] - 87s 88ms/step - loss: 0.2703 - accuracy: 0.9196 - val_loss: 0.0759 - val_accuracy: 0.9814\n",
      "Epoch 19/20\n",
      "981/981 [==============================] - 87s 88ms/step - loss: 0.2862 - accuracy: 0.9205 - val_loss: 0.2174 - val_accuracy: 0.9297\n",
      "Epoch 20/20\n",
      "981/981 [==============================] - 87s 88ms/step - loss: 0.2819 - accuracy: 0.9202 - val_loss: 0.0768 - val_accuracy: 0.9786\n"
     ]
    }
   ],
   "source": [
    "\"\"\"Setting up the epochs and history of each compile\"\"\"\n",
    "epochs = 20\n",
    "history = model.fit(X_train, y_train, batch_size=32, epochs=epochs, validation_data=(X_test, y_test))"
   ]
  },
  {
   "cell_type": "code",
   "execution_count": 16,
   "id": "combined-entrepreneur",
   "metadata": {},
   "outputs": [
    {
     "data": {
      "image/png": "[encoded data removed]",
      "text/plain": [
       "<Figure size 432x288 with 1 Axes>"
      ]
     },
     "metadata": {
      "needs_background": "light"
     },
     "output_type": "display_data"
    }
   ],
   "source": [
    "\"\"\"Printing the MATLAB diagram of the trained data\"\"\"\n",
    "plt.figure(0)\n",
    "plt.plot(history.history['accuracy'], label='training accuracy')\n",
    "plt.plot(history.history['val_accuracy'], label='val accuracy')\n",
    "plt.title('Accuracy')\n",
    "plt.xlabel('epochs')\n",
    "plt.ylabel('accuracy')\n",
    "plt.legend()\n",
    "plt.show()"
   ]
  },
  {
   "cell_type": "code",
   "execution_count": 17,
   "id": "exotic-pearl",
   "metadata": {},
   "outputs": [
    {
     "data": {
      "image/png": "[encoded data removed]",
      "text/plain": [
       "<Figure size 432x288 with 1 Axes>"
      ]
     },
     "metadata": {
      "needs_background": "light"
     },
     "output_type": "display_data"
    }
   ],
   "source": [
    "\"\"\"Printing the MATLAB diagram of loss accuracy\"\"\"\n",
    "plt.plot(history.history['loss'], label='training loss')\n",
    "plt.plot(history.history['val_loss'], label='val loss')\n",
    "plt.title('Loss')\n",
    "plt.xlabel('epochs')\n",
    "plt.legend()\n",
    "plt.show()"
   ]
  },
  {
   "cell_type": "code",
   "execution_count": 18,
   "id": "outdoor-explosion",
   "metadata": {},
   "outputs": [],
   "source": [
    "\"\"\"Reading csv file...\"\"\"\n",
    "def testing(testcsv):\n",
    "    y_test = pd.read_csv(testcsv)\n",
    "    label = y_test[\"ClassId\"].values\n",
    "    imgs = y_test[\"Path\"].values\n",
    "    data = []\n",
    "    for img in imgs:\n",
    "        image = Image.open(img)\n",
    "        image = image.resize((30, 30))\n",
    "        data.append(np.array(image))\n",
    "    X_test = np.array(data)\n",
    "    return X_test, label"
   ]
  },
  {
   "cell_type": "code",
   "execution_count": 29,
   "id": "educated-offense",
   "metadata": {},
   "outputs": [],
   "source": [
    "\"\"\"Declaring the file\"\"\"\n",
    "os.chdir(r'/home/wu/Desktop/Final project/Data')\n",
    "X_test, label = testing('Test.csv')"
   ]
  },
  {
   "cell_type": "code",
   "execution_count": 37,
   "id": "attempted-minneapolis",
   "metadata": {},
   "outputs": [
    {
     "name": "stderr",
     "output_type": "stream",
     "text": [
      "/home/wu/.local/lib/python3.8/site-packages/tensorflow/python/keras/engine/sequential.py:450: UserWarning: `model.predict_classes()` is deprecated and will be removed after 2021-01-01. Please use instead:* `np.argmax(model.predict(x), axis=-1)`,   if your model does multi-class classification   (e.g. if it uses a `softmax` last-layer activation).* `(model.predict(x) > 0.5).astype(\"int32\")`,   if your model does binary classification   (e.g. if it uses a `sigmoid` last-layer activation).\n",
      "  warnings.warn('`model.predict_classes()` is deprecated and '\n"
     ]
    },
    {
     "data": {
      "text/plain": [
       "array([16,  1, 38, ...,  2,  7, 10])"
      ]
     },
     "execution_count": 37,
     "metadata": {},
     "output_type": "execute_result"
    }
   ],
   "source": [
    "\"\"\"Running prediction function for the test\"\"\"\n",
    "Y_pred = model.predict_classes(X_test)\n",
    "Y_pred"
   ]
  },
  {
   "cell_type": "code",
   "execution_count": 38,
   "id": "twenty-description",
   "metadata": {},
   "outputs": [
    {
     "name": "stdout",
     "output_type": "stream",
     "text": [
      "0.9374505146476643\n"
     ]
    }
   ],
   "source": [
    "\"\"\"Printing accuracy from the testing\"\"\"\n",
    "from sklearn.metrics import accuracy_score\n",
    "print(accuracy_score(label, Y_pred))"
   ]
  },
  {
   "cell_type": "code",
   "execution_count": 39,
   "id": "announced-publicity",
   "metadata": {},
   "outputs": [],
   "source": [
    "\"\"\"Saving the model\"\"\"\n",
    "model.save(\"./home/wu/Desktop/Final project/Saved_model/model.h5\")"
   ]
  },
  {
   "cell_type": "code",
   "execution_count": 41,
   "id": "significant-representation",
   "metadata": {},
   "outputs": [],
   "source": [
    "\"\"\"Loading the model\"\"\"\n",
    "import os\n",
    "os.chdir(r'/home/wu/Desktop/Final project')\n",
    "from keras.models import load_model\n",
    "model = load_model(\"./Saved_model/model.h5\")"
   ]
  },
  {
   "cell_type": "code",
   "execution_count": 44,
   "id": "purple-graphics",
   "metadata": {},
   "outputs": [],
   "source": [
    "\"\"\"Classes for predicting\"\"\"\n",
    "classes = { 0:'Speed limit (20km/h)',\n",
    "            1:'Speed limit (30km/h)', \n",
    "            2:'Speed limit (50km/h)', \n",
    "            3:'Speed limit (60km/h)', \n",
    "            4:'Speed limit (70km/h)', \n",
    "            5:'Speed limit (80km/h)', \n",
    "            6:'End of speed limit (80km/h)', \n",
    "            7:'Speed limit (100km/h)', \n",
    "            8:'Speed limit (120km/h)', \n",
    "            9:'No passing', \n",
    "            10:'No passing veh over 3.5 tons', \n",
    "            11:'Right-of-way at intersection', \n",
    "            12:'Priority road', \n",
    "            13:'Yield', \n",
    "            14:'Stop', \n",
    "            15:'No vehicles', \n",
    "            16:'Veh > 3.5 tons prohibited', \n",
    "            17:'No entry', \n",
    "            18:'General caution', \n",
    "            19:'Dangerous curve left', \n",
    "            20:'Dangerous curve right', \n",
    "            21:'Double curve', \n",
    "            22:'Bumpy road', \n",
    "            23:'Slippery road', \n",
    "            24:'Road narrows on the right', \n",
    "            25:'Road work', \n",
    "            26:'Traffic signals', \n",
    "            27:'Pedestrians', \n",
    "            28:'Children crossing', \n",
    "            29:'Bicycles crossing', \n",
    "            30:'Beware of ice/snow',\n",
    "            31:'Wild animals crossing', \n",
    "            32:'End speed + passing limits', \n",
    "            33:'Turn right ahead', \n",
    "            34:'Turn left ahead', \n",
    "            35:'Ahead only', \n",
    "            36:'Go straight or right', \n",
    "            37:'Go straight or left', \n",
    "            38:'Keep right', \n",
    "            39:'Keep left', \n",
    "            40:'Roundabout mandatory', \n",
    "            41:'End of no passing', \n",
    "            42:'End no passing veh > 3.5 tons' }"
   ]
  },
  {
   "cell_type": "code",
   "execution_count": 45,
   "id": "specific-scheme",
   "metadata": {},
   "outputs": [],
   "source": [
    "\"\"\"\n",
    "Importing libararies\n",
    "Defining a function will open an image\n",
    "Image will be resized with testing\n",
    "\"\"\"\n",
    "from PIL import Image\n",
    "import numpy as np\n",
    "import matplotlib.pyplot as plt\n",
    "\n",
    "def test_on_img(img):\n",
    "    data=[]\n",
    "    image = Image.open(img)\n",
    "    image = image.resize((30, 30))\n",
    "    data.append(np.array(image))\n",
    "    X_test = np.array(data)\n",
    "    Y_pred = model.predict_classes(X_test)\n",
    "    return image, Y_pred"
   ]
  },
  {
   "cell_type": "code",
   "execution_count": 46,
   "id": "fourth-singing",
   "metadata": {},
   "outputs": [
    {
     "name": "stdout",
     "output_type": "stream",
     "text": [
      "Predicted traffic sign is:  Veh > 3.5 tons prohibited\n"
     ]
    },
    {
     "data": {
      "image/png": "[encoded data removed]",
      "text/plain": [
       "<Figure size 432x288 with 1 Axes>"
      ]
     },
     "metadata": {
      "needs_background": "light"
     },
     "output_type": "display_data"
    }
   ],
   "source": [
    "\"\"\"Delcaring the image\"\"\"\n",
    "plot,prediction = test_on_img(r'/home/wu/Desktop/Final project/Data/Test/00000.png')\n",
    "class_string = [str(i) for i in prediction]\n",
    "class_number = int(\"\".join(class_string))\n",
    "print(\"Predicted traffic sign is: \", classes[class_number])\n",
    "plt.imshow(plot)\n",
    "plt.show()"
   ]
  },
  {
   "cell_type": "code",
   "execution_count": null,
   "id": "documented-charter",
   "metadata": {},
   "outputs": [],
   "source": []
  }
 ],
 "metadata": {
  "kernelspec": {
   "display_name": "Python 3",
   "language": "python",
   "name": "python3"
  },
  "language_info": {
   "codemirror_mode": {
    "name": "ipython",
    "version": 3
   },
   "file_extension": ".py",
   "mimetype": "text/x-python",
   "name": "python",
   "nbconvert_exporter": "python",
   "pygments_lexer": "ipython3",
   "version": "3.8.5"
  }
 },
 "nbformat": 4,
 "nbformat_minor": 5
}
